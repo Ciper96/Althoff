{
 "cells": [
  {
   "cell_type": "markdown",
   "id": "05ef2105",
   "metadata": {},
   "source": [
    "# Обучение (1)"
   ]
  },
  {
   "cell_type": "code",
   "execution_count": 10,
   "id": "a1b8c240",
   "metadata": {},
   "outputs": [
    {
     "name": "stdout",
     "output_type": "stream",
     "text": [
      "Введите название города: Казань\n",
      "Это - Республика Татарстан\n"
     ]
    }
   ],
   "source": [
    "city = input(\"Введите название города: \")\n",
    "if city == (\"Нефтекамск\" or \"нефтекамск\" or \"Уфа\" or \"уфа\"):\n",
    "    print(\"Это - Республика Башкортостан\")\n",
    "elif city == (\"Казань\" or \"казань\"):\n",
    "    print(\"Это - Республика Татарстан\")\n",
    "else:\n",
    "    print(\"С большой долей вероятности это - не Башкортостан и не Татарстан\")"
   ]
  },
  {
   "cell_type": "markdown",
   "id": "945ad12d",
   "metadata": {},
   "source": [
    "# №1. Возведение в квадрат"
   ]
  },
  {
   "cell_type": "code",
   "execution_count": 29,
   "id": "5af03b42",
   "metadata": {},
   "outputs": [
    {
     "name": "stdout",
     "output_type": "stream",
     "text": [
      "Введите число: 2\n",
      "4.0\n"
     ]
    }
   ],
   "source": [
    "def f(number):\n",
    "    \"\"\"\n",
    "    Возвращает number ** 2.\n",
    "    :параметр number: пользовательская строка, преобразуемая в десятичную дробь.\n",
    "    :return: квадрат number.\n",
    "    \"\"\"\n",
    "    return number ** 2\n",
    "    \n",
    "try:\n",
    "    using = f(float(input(\"Введите число: \")))\n",
    "    print(using)\n",
    "    \n",
    "except ValueError:\n",
    "    print(\"Ошибка: значение не является числом\")"
   ]
  },
  {
   "cell_type": "markdown",
   "id": "1149d30b",
   "metadata": {},
   "source": [
    "# №2. Функция: ввод и вывод строки"
   ]
  },
  {
   "cell_type": "code",
   "execution_count": 51,
   "id": "f88ea815",
   "metadata": {},
   "outputs": [
    {
     "name": "stdout",
     "output_type": "stream",
     "text": [
      "Введите название региона без статуса: Татарстан\n",
      "Республика Татарстан\n"
     ]
    }
   ],
   "source": [
    "def fun():\n",
    "    \"\"\"\n",
    "    Возвращает целостное название региона.\n",
    "    :параметр x: пользовательская строка.\n",
    "    :return: \"Республика\" + пользовательское название региона (ПНР) или ПНР + \"область\",\n",
    "    либо сообщение об отсутствии региона в базе.\n",
    "    \"\"\"\n",
    "    x = input(\"Введите название региона без статуса: \")\n",
    "\n",
    "    if x == \"Башкортостан\" or x == \"Татарстан\":\n",
    "        print(\"Республика \" + x)\n",
    "\n",
    "    elif x == \"Московская\" or x == \"Челябинская\" or x == \"Свердловская\":\n",
    "        print(x + \" область\")\n",
    "\n",
    "    else:\n",
    "        print(\"Такого региона я не знаю\")\n",
    "\n",
    "fun()"
   ]
  },
  {
   "cell_type": "markdown",
   "id": "b7fdefa9",
   "metadata": {},
   "source": [
    "# №3. Три обязательных и два необязательных параметра"
   ]
  },
  {
   "cell_type": "code",
   "execution_count": 30,
   "id": "7ae8bd91",
   "metadata": {},
   "outputs": [
    {
     "name": "stdout",
     "output_type": "stream",
     "text": [
      "Каждый охотник желает знать, где сидит фазан\n"
     ]
    }
   ],
   "source": [
    "def upt(a, b, c, x = \" охотник\", y = \" знать, где\", z = \" фазан\"):\n",
    "    \n",
    "    \"\"\"\n",
    "    Возвращает a + x + \" \" + b + y + \" \" + c + z.\n",
    "    :параметр a: строка.\n",
    "    :параметр b: строка.\n",
    "    :параметр c: строка.\n",
    "    :return: \"Слово 1\" + охотник + \"Слово 2\" + знать, где, + \"Слово 3\" + фазан.\n",
    "    \"\"\"\n",
    "\n",
    "    return a + x + \" \" + b + y + \" \" + c + z\n",
    "\n",
    "\n",
    "print(upt(\"Каждый\", \"желает\", \"сидит\"))"
   ]
  },
  {
   "cell_type": "markdown",
   "id": "7acfe6b2",
   "metadata": {},
   "source": [
    "# №4. Две функции: деление на два и умножение результата на 4"
   ]
  },
  {
   "cell_type": "code",
   "execution_count": 31,
   "id": "52567d70",
   "metadata": {},
   "outputs": [
    {
     "name": "stdout",
     "output_type": "stream",
     "text": [
      "Введите число: 4\n",
      "Итог деления на 2: 2.0\n",
      "Результат умножения прежнего итога на 4: 8.0\n"
     ]
    }
   ],
   "source": [
    "def algebra(x):\n",
    "    \"\"\"\n",
    "    Возвращает x/2.\n",
    "    :параметр x: пользовательская строка, преобразованная в десятичную дробь.\n",
    "    :return: результат деления x на 2.\n",
    "    \"\"\"\n",
    "    return x/2\n",
    "\n",
    "result = algebra(float(input(\"Введите число: \")))\n",
    "print(\"Итог деления на 2: \"+ str(result))\n",
    "\n",
    "def algebra2(y):\n",
    "    \"\"\"\n",
    "    Возвращает y*4.\n",
    "    :параметр y: десятичная дробь, итог выполнения функции algebra(x).\n",
    "    :return: итог выполнения функции algebra(x), умноженный на 4.\n",
    "    \"\"\"\n",
    "    return y*4\n",
    "final = algebra2(result)\n",
    "print(\"Результат умножения прежнего итога на 4: \" + str(final))"
   ]
  },
  {
   "cell_type": "markdown",
   "id": "dd32950d",
   "metadata": {},
   "source": [
    "# №5. Функция преобразует строку во float с обработкой исключений"
   ]
  },
  {
   "cell_type": "code",
   "execution_count": 32,
   "id": "b0b8efb6",
   "metadata": {},
   "outputs": [
    {
     "name": "stdout",
     "output_type": "stream",
     "text": [
      "Введите число: 24\n",
      "Результат: 24.0\n",
      "Введите число: Строка\n",
      "Введённое значение не является числом!\n"
     ]
    }
   ],
   "source": [
    "for i in range(2):\n",
    "    def stroka(x):\n",
    "        \"\"\"\n",
    "        Возвращает float(x).\n",
    "        :параметр x: пользовательская строка, преобразованная в десятичную дробь.\n",
    "        :return: строка x, преобразованная в десятичную дробь.\n",
    "        \"\"\"\n",
    "        return float(x)\n",
    "\n",
    "    try:\n",
    "        start = stroka(input(\"Введите число: \"))\n",
    "        print(\"Результат: \" + str(start))\n",
    "\n",
    "    except ValueError:\n",
    "        print(\"Введённое значение не является числом!\")"
   ]
  },
  {
   "cell_type": "code",
   "execution_count": null,
   "id": "d8076d59",
   "metadata": {},
   "outputs": [],
   "source": []
  }
 ],
 "metadata": {
  "kernelspec": {
   "display_name": "Python 3 (ipykernel)",
   "language": "python",
   "name": "python3"
  },
  "language_info": {
   "codemirror_mode": {
    "name": "ipython",
    "version": 3
   },
   "file_extension": ".py",
   "mimetype": "text/x-python",
   "name": "python",
   "nbconvert_exporter": "python",
   "pygments_lexer": "ipython3",
   "version": "3.11.5"
  }
 },
 "nbformat": 4,
 "nbformat_minor": 5
}
