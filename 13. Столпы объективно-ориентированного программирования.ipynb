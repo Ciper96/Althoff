{
 "cells": [
  {
   "cell_type": "markdown",
   "id": "047d4d85",
   "metadata": {},
   "source": [
    "# №1. Наследование метода"
   ]
  },
  {
   "cell_type": "code",
   "execution_count": 27,
   "id": "5c3bea40",
   "metadata": {},
   "outputs": [
    {
     "name": "stdout",
     "output_type": "stream",
     "text": [
      "14\n",
      "16\n"
     ]
    }
   ],
   "source": [
    "class Rectangle:\n",
    "    def __init__ (self, a, b):\n",
    "        self.a = a\n",
    "        self.b = b\n",
    "    def calculate_perimeter (self):\n",
    "        return (self.a + self.b) * 2\n",
    "    \n",
    "class Square (Rectangle):\n",
    "    pass\n",
    "\n",
    "rect = Rectangle (3, 4)\n",
    "sqr = Square (4, 4)\n",
    "\n",
    "print(rect.calculate_perimeter())\n",
    "print(sqr.calculate_perimeter())"
   ]
  },
  {
   "cell_type": "markdown",
   "id": "42e81ccd",
   "metadata": {},
   "source": [
    "# №2. Метод, который увеличивает или уменьшает сторону квадрата, перед вычислением площади"
   ]
  },
  {
   "cell_type": "code",
   "execution_count": 38,
   "id": "0777164a",
   "metadata": {},
   "outputs": [
    {
     "name": "stdout",
     "output_type": "stream",
     "text": [
      "16\n",
      "36\n",
      "4\n"
     ]
    }
   ],
   "source": [
    "class Square:\n",
    "    def __init__ (self, a):\n",
    "        self.a = a\n",
    "    def change_size (self, b):\n",
    "        self.a = self.a + b\n",
    "    def area (self):\n",
    "        return self.a ** 2\n",
    "\n",
    "sqr2 = Square (4)\n",
    "print(sqr2.area())\n",
    "\n",
    "sqr2.change_size(2)\n",
    "print(sqr2.area())\n",
    "\n",
    "sqr3 = Square (4)\n",
    "sqr3.change_size(-2)\n",
    "print(sqr3.area())"
   ]
  },
  {
   "cell_type": "markdown",
   "id": "83501ee6",
   "metadata": {},
   "source": [
    "# №3. Наследование метода двумя другими классами"
   ]
  },
  {
   "cell_type": "code",
   "execution_count": 68,
   "id": "85d24740",
   "metadata": {},
   "outputs": [
    {
     "name": "stdout",
     "output_type": "stream",
     "text": [
      "Я - фигура.\n",
      "Я - фигура.\n"
     ]
    }
   ],
   "source": [
    "class Shape:\n",
    "    def __init__ (self):\n",
    "        pass\n",
    "    def what_am_i(self):\n",
    "        print(\"Я - фигура.\")        \n",
    "        \n",
    "class Square(Shape):\n",
    "    def __init__ (self, a):\n",
    "        self.a = a\n",
    "    \n",
    "class Rectangle(Shape):\n",
    "    def __init__ (self, a, b):\n",
    "        self.a = a\n",
    "        self.b = b\n",
    "        \n",
    "sqr10 = Square(4)\n",
    "rect10 = Rectangle (2, 3)\n",
    "    \n",
    "sqr10.what_am_i()\n",
    "rect10.what_am_i()"
   ]
  },
  {
   "cell_type": "markdown",
   "id": "ed93d416",
   "metadata": {},
   "source": [
    "# №4. Композиция"
   ]
  },
  {
   "cell_type": "code",
   "execution_count": 77,
   "id": "2537a0db",
   "metadata": {},
   "outputs": [
    {
     "name": "stdout",
     "output_type": "stream",
     "text": [
      "Tom Riddle\n"
     ]
    }
   ],
   "source": [
    "class Horse:\n",
    "    def __init__ (self, c, r):\n",
    "        self.colour = c\n",
    "        self.rider = r\n",
    "        \n",
    "class Rider:\n",
    "    def __init__ (self, name):\n",
    "        self.name = name\n",
    "\n",
    "Tom = Rider(\"Tom Riddle\")\n",
    "Jacob = Horse(\"brown\", Tom)\n",
    "\n",
    "print(Jacob.rider.name)"
   ]
  },
  {
   "cell_type": "code",
   "execution_count": null,
   "id": "2a3504b6",
   "metadata": {},
   "outputs": [],
   "source": []
  }
 ],
 "metadata": {
  "kernelspec": {
   "display_name": "Python 3 (ipykernel)",
   "language": "python",
   "name": "python3"
  },
  "language_info": {
   "codemirror_mode": {
    "name": "ipython",
    "version": 3
   },
   "file_extension": ".py",
   "mimetype": "text/x-python",
   "name": "python",
   "nbconvert_exporter": "python",
   "pygments_lexer": "ipython3",
   "version": "3.11.5"
  }
 },
 "nbformat": 4,
 "nbformat_minor": 5
}
