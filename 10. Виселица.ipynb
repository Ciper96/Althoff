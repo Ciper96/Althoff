{
 "cells": [
  {
   "cell_type": "code",
   "execution_count": 14,
   "id": "0e3594bd-4555-4426-a59b-82d299b64e62",
   "metadata": {},
   "outputs": [
    {
     "name": "stdout",
     "output_type": "stream",
     "text": [
      "Execution!\n",
      "\n",
      "\n"
     ]
    },
    {
     "name": "stdin",
     "output_type": "stream",
     "text": [
      "Letter:  l\n"
     ]
    },
    {
     "name": "stdout",
     "output_type": "stream",
     "text": [
      "__l______\n",
      "\n",
      "\n",
      "\n"
     ]
    },
    {
     "name": "stdin",
     "output_type": "stream",
     "text": [
      "Letter:  c\n"
     ]
    },
    {
     "name": "stdout",
     "output_type": "stream",
     "text": [
      "cl______\n",
      "\n",
      "\n",
      "\n"
     ]
    },
    {
     "name": "stdin",
     "output_type": "stream",
     "text": [
      "Letter:  s\n"
     ]
    },
    {
     "name": "stdout",
     "output_type": "stream",
     "text": [
      "cl__s__\n",
      "\n",
      "\n",
      "\n"
     ]
    },
    {
     "name": "stdin",
     "output_type": "stream",
     "text": [
      "Letter:  s\n"
     ]
    },
    {
     "name": "stdout",
     "output_type": "stream",
     "text": [
      "cl__ss\n",
      "\n",
      "\n",
      "\n"
     ]
    },
    {
     "name": "stdin",
     "output_type": "stream",
     "text": [
      "Letter:  a\n"
     ]
    },
    {
     "name": "stdout",
     "output_type": "stream",
     "text": [
      "class\n",
      "\n",
      "Won! Word was: \n",
      "class\n"
     ]
    }
   ],
   "source": [
    "def hangman(word):\n",
    "    wrong = 0\n",
    "    stages = [\"\",\n",
    "              \"_______        \",\n",
    "              \"|      |       \",\n",
    "              \"|      |       \",\n",
    "              \"|      0       \",\n",
    "              \"|     /|\\\\      \",\n",
    "              \"|     / \\\\      \",\n",
    "              \"|              \"\n",
    "              ]\n",
    "    rletters = list(word)\n",
    "    board = [\"__\"] * len(word)\n",
    "    win = False\n",
    "    print(\"Execution!\")\n",
    "    while wrong < len(stages) - 1:\n",
    "        print(\"\\n\")\n",
    "        msg = \"Letter: \"\n",
    "        guess = input(msg)\n",
    "        if guess in rletters:\n",
    "            cind = rletters.index(guess)\n",
    "            board[cind] = guess\n",
    "            rletters[cind] = \"$\"\n",
    "        else:\n",
    "            wrong += 1\n",
    "        print((\"\".join(board)))\n",
    "        e = wrong + 1\n",
    "        print(\"\\n\".join(stages[0:e]))\n",
    "        if \"__\" not in board:\n",
    "            print(\"Won! Word was: \")\n",
    "            print(\"\".join(board))\n",
    "            win = True\n",
    "            break\n",
    "    if not win:\n",
    "        print(\"\\n\".join(stages[0:wrong]))\n",
    "        print(\"Bud luck! Word was: {}\".format(word))\n",
    "\n",
    "simples = [\"past\", \"fax\", \"like\", \"attract\", \"amused\", \"youthful\", \"subdued\", \"camera\", \"buzz\", \"abaft\", \"hungry\", \"class\"]\n",
    "\n",
    "import random\n",
    "\n",
    "hangman(random.choice(simples))"
   ]
  },
  {
   "cell_type": "code",
   "execution_count": null,
   "id": "6497b037-a273-44ab-bb6b-1c5e64d71315",
   "metadata": {},
   "outputs": [],
   "source": []
  }
 ],
 "metadata": {
  "kernelspec": {
   "display_name": "Python 3 (ipykernel)",
   "language": "python",
   "name": "python3"
  },
  "language_info": {
   "codemirror_mode": {
    "name": "ipython",
    "version": 3
   },
   "file_extension": ".py",
   "mimetype": "text/x-python",
   "name": "python",
   "nbconvert_exporter": "python",
   "pygments_lexer": "ipython3",
   "version": "3.12.0"
  }
 },
 "nbformat": 4,
 "nbformat_minor": 5
}
