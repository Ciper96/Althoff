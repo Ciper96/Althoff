{
 "cells": [
  {
   "cell_type": "markdown",
   "id": "0a2f79fd",
   "metadata": {},
   "source": [
    "# №1. Простой список"
   ]
  },
  {
   "cell_type": "code",
   "execution_count": 4,
   "id": "fe09fad3-668a-470b-83b8-ebcc3f01abca",
   "metadata": {
    "scrolled": true
   },
   "outputs": [
    {
     "name": "stdout",
     "output_type": "stream",
     "text": [
      "['first', 'second', 'third']\n",
      "['first', 'second', 'third', 'fourth']\n"
     ]
    }
   ],
   "source": [
    "u_list = list ()\n",
    "u_list.append(\"first\")\n",
    "u_list.append(\"second\")\n",
    "u_list.append(\"third\")\n",
    "print(u_list)\n",
    "\n",
    "b_list = [\"first\", \"second\", \"third\"]\n",
    "b_list.append(\"fourth\")\n",
    "print(b_list)"
   ]
  },
  {
   "cell_type": "markdown",
   "id": "603b6298",
   "metadata": {},
   "source": [
    "# №2. Список кортежей, содержащих координаты"
   ]
  },
  {
   "cell_type": "code",
   "execution_count": 6,
   "id": "39f5c1de-a7de-434e-9ff4-106183a4d654",
   "metadata": {},
   "outputs": [
    {
     "name": "stdout",
     "output_type": "stream",
     "text": [
      "((59.938784, 30.314997), (55.755864, 37.617698), (43.665208, -79.39271))\n"
     ]
    }
   ],
   "source": [
    "places = ((59.938784, 30.314997), (55.755864, 37.617698), (43.665208, -79.392710))\n",
    "print(places)"
   ]
  },
  {
   "cell_type": "markdown",
   "id": "4a497cc4",
   "metadata": {},
   "source": [
    "# №3. Простой словарь"
   ]
  },
  {
   "cell_type": "code",
   "execution_count": 11,
   "id": "ad5a2277-cdab-4abf-ba82-3f5a2eb42277",
   "metadata": {},
   "outputs": [
    {
     "name": "stdout",
     "output_type": "stream",
     "text": [
      "{'Bashkortostan': 'Ufa', 'Tyumenskaya': \"Tyumen'\", 'Chechenskaya': 'Grozny'}\n"
     ]
    }
   ],
   "source": [
    "capitals = {\"Bashkortostan\" : \"Ufa\"}\n",
    "capitals[\"Tyumenskaya\"] = \"Tyumen'\"\n",
    "capitals[\"Chechenskaya\"] = \"Grozny\"\n",
    "print(capitals)"
   ]
  },
  {
   "cell_type": "markdown",
   "id": "50ea9dc4",
   "metadata": {},
   "source": [
    "# №4. Программа, выдающая значения из словаря по запросу"
   ]
  },
  {
   "cell_type": "code",
   "execution_count": 13,
   "id": "9ab1654b-2bc8-4c93-a989-c6ecb64a800c",
   "metadata": {},
   "outputs": [
    {
     "name": "stdin",
     "output_type": "stream",
     "text": [
      "Write region's name:  Bashkortostan\n"
     ]
    },
    {
     "name": "stdout",
     "output_type": "stream",
     "text": [
      "Ufa\n"
     ]
    },
    {
     "name": "stdin",
     "output_type": "stream",
     "text": [
      "Write region's name:  Chelyabinskaya\n"
     ]
    },
    {
     "name": "stdout",
     "output_type": "stream",
     "text": [
      "There is no such region in list\n"
     ]
    }
   ],
   "source": [
    "capitals = {\"Bashkortostan\" : \"Ufa\"}\n",
    "capitals[\"Tyumenskaya\"] = \"Tyumen'\"\n",
    "capitals[\"Chechenskaya\"] = \"Grozny\"\n",
    "\n",
    "for i in range(2):\n",
    "    enter = input(\"Write region's name: \")\n",
    "    check = enter in capitals\n",
    "    if check == True:\n",
    "        print(capitals[enter])\n",
    "    else:\n",
    "        print(\"There is no such region in list\")"
   ]
  },
  {
   "cell_type": "markdown",
   "id": "6bf46755",
   "metadata": {},
   "source": [
    "# №5. Словарь, где значениями выступают списки"
   ]
  },
  {
   "cell_type": "code",
   "execution_count": 14,
   "id": "e9895843-17c7-4eda-978a-3c10158a4ec2",
   "metadata": {},
   "outputs": [
    {
     "name": "stdout",
     "output_type": "stream",
     "text": [
      "{'Kazan': ['Dekabristov', 'Uchitelskaya', 'Gvardeyskaya'], 'Chelyabinsk': ['Entuziastov', 'Kirova', 'Lenina']}\n"
     ]
    }
   ],
   "source": [
    "Kazan_str = [\"Dekabristov\", \"Uchitelskaya\"]\n",
    "Kazan_str.append(\"Gvardeyskaya\")\n",
    "\n",
    "Chelyabinsk_str = [\"Entuziastov\", \"Kirova\"]\n",
    "Chelyabinsk_str.append(\"Lenina\")\n",
    "\n",
    "Cities = {\"Kazan\" : Kazan_str, \"Chelyabinsk\" : Chelyabinsk_str}\n",
    "print(Cities)"
   ]
  },
  {
   "cell_type": "code",
   "execution_count": null,
   "id": "b3fb8d02-57cc-4974-9a6a-6a7218a5868c",
   "metadata": {},
   "outputs": [],
   "source": []
  }
 ],
 "metadata": {
  "kernelspec": {
   "display_name": "Python 3 (ipykernel)",
   "language": "python",
   "name": "python3"
  },
  "language_info": {
   "codemirror_mode": {
    "name": "ipython",
    "version": 3
   },
   "file_extension": ".py",
   "mimetype": "text/x-python",
   "name": "python",
   "nbconvert_exporter": "python",
   "pygments_lexer": "ipython3",
   "version": "3.11.5"
  }
 },
 "nbformat": 4,
 "nbformat_minor": 5
}
