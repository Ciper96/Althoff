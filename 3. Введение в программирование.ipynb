{
 "cells": [
  {
   "cell_type": "markdown",
   "id": "1c8e40ee",
   "metadata": {},
   "source": [
    "# №1. Вывод трёх строк"
   ]
  },
  {
   "cell_type": "code",
   "execution_count": 1,
   "id": "5f24502c",
   "metadata": {},
   "outputs": [
    {
     "name": "stdout",
     "output_type": "stream",
     "text": [
      "Регион: Респ. Бурятия\n",
      "Фамилия: Иванов, Имя: Иван\n",
      "Черты: целеустремлённый\n"
     ]
    }
   ],
   "source": [
    "first = \"Республика\"\n",
    "second = \"Бурятия\"\n",
    "\n",
    "print(\"Регион: \" + first[0:4]+\".\"+\" \"+ second)\n",
    "\n",
    "dict = {\"Фамилия\": \"Иванов\", \"Имя\": \"Иван\", \"Отчество\": \"Иванович\"}\n",
    "print(\"Фамилия: \" + dict[\"Фамилия\"] + \", Имя: \" + dict[\"Имя\"])\n",
    "\n",
    "list = [\"рассудительный\", \"принципиальный\", \"внимательный\", \"целеустремлённый\"]\n",
    "print(\"Черты: \" + list[3])"
   ]
  },
  {
   "cell_type": "markdown",
   "id": "cd8bd31c",
   "metadata": {},
   "source": [
    "# №2. Два сообщения по значениям"
   ]
  },
  {
   "cell_type": "code",
   "execution_count": 21,
   "id": "f017ce5c",
   "metadata": {},
   "outputs": [
    {
     "name": "stdout",
     "output_type": "stream",
     "text": [
      "Введите число и нажмите Enter\n",
      "78787878\n",
      "Число: больше или равно 10\n"
     ]
    }
   ],
   "source": [
    "print(\"Введите число и нажмите Enter\")\n",
    "enter = int(input())\n",
    "\n",
    "if enter < 10:\n",
    "    print(\"Число: меньше 10\")\n",
    "else:\n",
    "    print(\"Число: больше или равно 10\")"
   ]
  },
  {
   "cell_type": "markdown",
   "id": "694831ab",
   "metadata": {},
   "source": [
    "# №3. Сообщения при трёх условиях"
   ]
  },
  {
   "cell_type": "code",
   "execution_count": 1,
   "id": "5f6a3c3c",
   "metadata": {},
   "outputs": [
    {
     "name": "stdout",
     "output_type": "stream",
     "text": [
      "Введите число и нажмите Enter\n",
      "78\n",
      "Число: от 26 и больше\n"
     ]
    }
   ],
   "source": [
    "print(\"Введите число и нажмите Enter\")\n",
    "\n",
    "put = int(input())\n",
    "\n",
    "if put <= 10:\n",
    "    print(\"Число: меньше или равно 10\")\n",
    "elif 10 < put <= 25:\n",
    "    print(\"Число: в диапазоне от 11 до 25\")\n",
    "else:\n",
    "    print(\"Число: от 26 и больше\")"
   ]
  },
  {
   "cell_type": "markdown",
   "id": "181ae14c",
   "metadata": {},
   "source": [
    "# №4. Вывод результата деления двух чисел и остатка"
   ]
  },
  {
   "cell_type": "code",
   "execution_count": 5,
   "id": "576c7ca0",
   "metadata": {},
   "outputs": [
    {
     "name": "stdout",
     "output_type": "stream",
     "text": [
      "Введите первое число и нажмите Enter\n",
      "65\n",
      "Введите второе число и также нажмите Enter\n",
      "32\n",
      "Результат: \n",
      "2\n",
      "Остаток: \n",
      "1\n"
     ]
    }
   ],
   "source": [
    "print(\"Введите первое число и нажмите Enter\")\n",
    "\n",
    "x = int(input())\n",
    "\n",
    "print(\"Введите второе число и также нажмите Enter\")\n",
    "y = int(input())\n",
    "\n",
    "print(\"Результат: \")\n",
    "print(x // y)\n",
    "print(\"Остаток: \")\n",
    "print(x % y)"
   ]
  },
  {
   "cell_type": "markdown",
   "id": "301979ef",
   "metadata": {},
   "source": [
    "# №5. Вывод частного от деления двух чисел"
   ]
  },
  {
   "cell_type": "code",
   "execution_count": 7,
   "id": "c5fa8394",
   "metadata": {},
   "outputs": [
    {
     "name": "stdout",
     "output_type": "stream",
     "text": [
      "Введите x:\n",
      "24\n",
      "Введите y:\n",
      "15\n",
      "Итог:\n",
      "1.6\n"
     ]
    }
   ],
   "source": [
    "print(\"Введите x:\")\n",
    "\n",
    "x = float(input())\n",
    "\n",
    "print(\"Введите y:\")\n",
    "\n",
    "y = float(input())\n",
    "\n",
    "print(\"Итог:\")\n",
    "print(x / y)"
   ]
  },
  {
   "cell_type": "markdown",
   "id": "5e7f5bf9",
   "metadata": {},
   "source": [
    "# №6. Разные строки в зависимости от указанного возраста"
   ]
  },
  {
   "cell_type": "code",
   "execution_count": 10,
   "id": "91e32e6d",
   "metadata": {},
   "outputs": [
    {
     "name": "stdout",
     "output_type": "stream",
     "text": [
      "Пожалуйста, укажите ваш возраст:\n",
      "678\n",
      "Добрый день, мужчина!\n"
     ]
    }
   ],
   "source": [
    "print(\"Пожалуйста, укажите ваш возраст:\")\n",
    "\n",
    "age = int(input())\n",
    "\n",
    "if age < 18:\n",
    "    print(\"Привет, юноша!\")\n",
    "elif 18 <= age < 35:\n",
    "    print(\"Здравствуйте, молодой человек!\")\n",
    "else:\n",
    "    print(\"Добрый день, мужчина!\")"
   ]
  },
  {
   "cell_type": "code",
   "execution_count": null,
   "id": "18ff971e",
   "metadata": {},
   "outputs": [],
   "source": []
  }
 ],
 "metadata": {
  "kernelspec": {
   "display_name": "Python 3 (ipykernel)",
   "language": "python",
   "name": "python3"
  },
  "language_info": {
   "codemirror_mode": {
    "name": "ipython",
    "version": 3
   },
   "file_extension": ".py",
   "mimetype": "text/x-python",
   "name": "python",
   "nbconvert_exporter": "python",
   "pygments_lexer": "ipython3",
   "version": "3.11.5"
  }
 },
 "nbformat": 4,
 "nbformat_minor": 5
}
