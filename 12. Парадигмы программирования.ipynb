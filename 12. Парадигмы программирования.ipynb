{
 "cells": [
  {
   "cell_type": "code",
   "execution_count": 3,
   "id": "f55ab373",
   "metadata": {},
   "outputs": [
    {
     "name": "stdout",
     "output_type": "stream",
     "text": [
      "1\n",
      "1\n"
     ]
    }
   ],
   "source": [
    "a = 0\n",
    "\n",
    "def increment():\n",
    "    global a\n",
    "    a += 1\n",
    "    \n",
    "    print(a)\n",
    "\n",
    "increment()\n",
    "print(a)"
   ]
  },
  {
   "cell_type": "code",
   "execution_count": 5,
   "id": "0e6240cd",
   "metadata": {},
   "outputs": [],
   "source": [
    "class Orange:\n",
    "    def __init__(self):\n",
    "        print(\"Создано!\")"
   ]
  },
  {
   "cell_type": "code",
   "execution_count": 6,
   "id": "0c87043f",
   "metadata": {},
   "outputs": [],
   "source": [
    "class Orange:\n",
    "    def __init__(self, w, c):\n",
    "        self.weight = w\n",
    "        self.colour = c\n",
    "        print(\"Создано!\")"
   ]
  },
  {
   "cell_type": "code",
   "execution_count": 9,
   "id": "9e7ccac9",
   "metadata": {},
   "outputs": [
    {
     "name": "stdout",
     "output_type": "stream",
     "text": [
      "Создано!\n",
      "<__main__.Orange object at 0x000001EA551A2FD0>\n",
      "10\n",
      "темный апельсин\n"
     ]
    }
   ],
   "source": [
    "class Orange:\n",
    "    def __init__(self, w, c):\n",
    "        self.weight = w\n",
    "        self.colour = c\n",
    "        print(\"Создано!\")\n",
    "        \n",
    "or1 = Orange(10, \"темный апельсин\")\n",
    "print(or1)\n",
    "\n",
    "print(or1.weight)\n",
    "print(or1.colour)"
   ]
  },
  {
   "cell_type": "code",
   "execution_count": 12,
   "id": "4dedca3f",
   "metadata": {},
   "outputs": [
    {
     "name": "stdout",
     "output_type": "stream",
     "text": [
      "Создано!\n",
      "<__main__.Orange object at 0x000001EA55E4C290>\n",
      "100\n",
      "светлый апельсин\n"
     ]
    }
   ],
   "source": [
    "class Orange:\n",
    "    def __init__(self, w, c):\n",
    "        self.weight = w\n",
    "        self.colour = c\n",
    "        print(\"Создано!\")\n",
    "        \n",
    "or1 = Orange(10, \"темный апельсин\")\n",
    "print(or1)\n",
    "\n",
    "or1.weight = 100\n",
    "or1.colour = \"светлый апельсин\"\n",
    "\n",
    "print(or1.weight)\n",
    "print(or1.colour)"
   ]
  },
  {
   "cell_type": "code",
   "execution_count": 13,
   "id": "045c3921",
   "metadata": {},
   "outputs": [
    {
     "name": "stdout",
     "output_type": "stream",
     "text": [
      "Создано!\n",
      "Создано!\n",
      "Создано!\n"
     ]
    }
   ],
   "source": [
    "class Orange:\n",
    "    def __init__(self, w, c):\n",
    "        self.weight = w\n",
    "        self.colour = c\n",
    "        print(\"Создано!\")\n",
    "        \n",
    "or1 = Orange(4, \"светлый апельсин\")\n",
    "or2 = Orange(8, \"темный апельсин\")\n",
    "or3 = Orange(14, \"желтый апельсин\")"
   ]
  },
  {
   "cell_type": "code",
   "execution_count": 16,
   "id": "8a654996",
   "metadata": {},
   "outputs": [
    {
     "name": "stdout",
     "output_type": "stream",
     "text": [
      "Создано!\n",
      "0\n",
      "330\n"
     ]
    }
   ],
   "source": [
    "class Orange:\n",
    "    def __init__ (self, w, c):\n",
    "        self.weight = w\n",
    "        self.colour = c\n",
    "        self.mold = 0\n",
    "        print(\"Создано!\")\n",
    "    \n",
    "    def rot (self, days, temp):\n",
    "        self.mold = days * temp\n",
    "        \n",
    "orange = Orange(6, \"апельсин\")\n",
    "\n",
    "print(orange.mold)\n",
    "orange.rot(10, 33)\n",
    "print(orange.mold)"
   ]
  },
  {
   "cell_type": "code",
   "execution_count": 18,
   "id": "cddd6f22",
   "metadata": {},
   "outputs": [
    {
     "name": "stdout",
     "output_type": "stream",
     "text": [
      "200\n",
      "800\n"
     ]
    }
   ],
   "source": [
    "class Rectangle():\n",
    "    def __init__(self, w, l):\n",
    "        self.width = w\n",
    "        self.len = l\n",
    "        \n",
    "    def area (self):\n",
    "        return self.width * self.len\n",
    "    \n",
    "    def change_size(self, w, l):\n",
    "        self.width = w\n",
    "        self.len = l\n",
    "        \n",
    "rectangle = Rectangle(10, 20)\n",
    "print(rectangle.area())\n",
    "\n",
    "rectangle.change_size(20, 40)\n",
    "print(rectangle.area())"
   ]
  },
  {
   "cell_type": "code",
   "execution_count": null,
   "id": "1259c80e",
   "metadata": {},
   "outputs": [],
   "source": []
  }
 ],
 "metadata": {
  "kernelspec": {
   "display_name": "Python 3 (ipykernel)",
   "language": "python",
   "name": "python3"
  },
  "language_info": {
   "codemirror_mode": {
    "name": "ipython",
    "version": 3
   },
   "file_extension": ".py",
   "mimetype": "text/x-python",
   "name": "python",
   "nbconvert_exporter": "python",
   "pygments_lexer": "ipython3",
   "version": "3.11.5"
  }
 },
 "nbformat": 4,
 "nbformat_minor": 5
}
