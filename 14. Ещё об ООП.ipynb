{
 "cells": [
  {
   "cell_type": "markdown",
   "id": "7c833c5d-0328-4037-820e-e11746a19fe2",
   "metadata": {},
   "source": [
    "# №1. Every new object to list"
   ]
  },
  {
   "cell_type": "code",
   "execution_count": 8,
   "id": "3a18ae3d-4a15-4282-9c8c-86c0af366049",
   "metadata": {},
   "outputs": [
    {
     "name": "stdout",
     "output_type": "stream",
     "text": [
      "[10, 3, 48]\n"
     ]
    }
   ],
   "source": [
    "class Square:\n",
    "    squares = []\n",
    "    \n",
    "    def __init__ (self, a):\n",
    "        self.a = a\n",
    "        self.squares.append(a)\n",
    "\n",
    "first = Square (10)\n",
    "second = Square (3)\n",
    "third = Square (48)\n",
    "\n",
    "print(Square.squares)"
   ]
  },
  {
   "cell_type": "markdown",
   "id": "5e871caf-e1fb-4368-b14d-541e78c970c1",
   "metadata": {},
   "source": [
    "# №2. Attributes when objects creating"
   ]
  },
  {
   "cell_type": "code",
   "execution_count": 14,
   "id": "077a27b7-3eb8-4b25-aac8-573548e75662",
   "metadata": {},
   "outputs": [
    {
     "name": "stdout",
     "output_type": "stream",
     "text": [
      "10 на 10 на 10 на 10\n",
      "3 на 3 на 3 на 3\n",
      "48 на 48 на 48 на 48\n"
     ]
    }
   ],
   "source": [
    "class Square:\n",
    "    \n",
    "    def __init__ (self, a):\n",
    "        self.a = a\n",
    "        print((str(a) + \" на \") * 3 + str(a))\n",
    "\n",
    "first = Square (10)\n",
    "second = Square (3)\n",
    "third = Square (48)"
   ]
  },
  {
   "cell_type": "markdown",
   "id": "df590617-9d4f-4ac0-a94f-76e14945e04d",
   "metadata": {},
   "source": [
    "# №3. Function using IS keyword"
   ]
  },
  {
   "cell_type": "code",
   "execution_count": 15,
   "id": "48911bab-3f0f-495f-b7d4-e538471ee389",
   "metadata": {},
   "outputs": [
    {
     "name": "stdout",
     "output_type": "stream",
     "text": [
      "False\n",
      "True\n"
     ]
    }
   ],
   "source": [
    "def sravnenie (object1, object2):\n",
    "    return object1 is object2\n",
    "\n",
    "text = \"description\"\n",
    "number = 1516\n",
    "text2 = \"description\"\n",
    "\n",
    "print(sravnenie(text, number))\n",
    "print(sravnenie(text, text2))"
   ]
  },
  {
   "cell_type": "code",
   "execution_count": null,
   "id": "5273f859-bf1b-4e1e-8b78-690cecdf79ab",
   "metadata": {},
   "outputs": [],
   "source": []
  }
 ],
 "metadata": {
  "kernelspec": {
   "display_name": "Python 3 (ipykernel)",
   "language": "python",
   "name": "python3"
  },
  "language_info": {
   "codemirror_mode": {
    "name": "ipython",
    "version": 3
   },
   "file_extension": ".py",
   "mimetype": "text/x-python",
   "name": "python",
   "nbconvert_exporter": "python",
   "pygments_lexer": "ipython3",
   "version": "3.12.0"
  }
 },
 "nbformat": 4,
 "nbformat_minor": 5
}
