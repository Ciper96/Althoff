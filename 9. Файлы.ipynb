{
 "cells": [
  {
   "cell_type": "markdown",
   "id": "829c1b8c",
   "metadata": {},
   "source": [
    "# №1. Чтение файла"
   ]
  },
  {
   "cell_type": "code",
   "execution_count": 4,
   "id": "2b5abaca",
   "metadata": {},
   "outputs": [
    {
     "name": "stdout",
     "output_type": "stream",
     "text": [
      "Something went great!\n"
     ]
    }
   ],
   "source": [
    "with open(\"budu.txt\", \"r\") as budu:\n",
    "    print(budu.read())"
   ]
  },
  {
   "cell_type": "markdown",
   "id": "00b4e479",
   "metadata": {},
   "source": [
    "# №2. Запись в файл пользовательского ввода"
   ]
  },
  {
   "cell_type": "code",
   "execution_count": 8,
   "id": "e7ea0fee",
   "metadata": {},
   "outputs": [
    {
     "name": "stdout",
     "output_type": "stream",
     "text": [
      "Какой ваш любимый цвет? Фиолетовый\n",
      "Фиолетовый\n"
     ]
    }
   ],
   "source": [
    "with open(\"budu.txt\", \"w+\") as budinok:\n",
    "    \n",
    "    answer = input(\"Какой ваш любимый цвет? \")\n",
    "    \n",
    "    budinok.write(answer)\n",
    "    \n",
    "with open(\"budu.txt\", \"r\") as budinok:\n",
    "    print(budinok.read())"
   ]
  },
  {
   "cell_type": "markdown",
   "id": "fb1a3efb",
   "metadata": {},
   "source": [
    "# №3. Запись элементов списка в CSV-файл"
   ]
  },
  {
   "cell_type": "code",
   "execution_count": 16,
   "id": "9c1ff527",
   "metadata": {},
   "outputs": [
    {
     "name": "stdout",
     "output_type": "stream",
     "text": [
      "Звездные войны,Терминатор,Искусственный интеллект\n",
      "Дурак,Матильда,Левиафан\n",
      "Люди в черном,Я - робот,Эволюция\n",
      "\n"
     ]
    }
   ],
   "source": [
    "import csv\n",
    "\n",
    "spisok = [[\"Звездные войны\", \"Терминатор\", \"Искусственный интеллект\"],\n",
    "          [\"Дурак\", \"Матильда\", \"Левиафан\"],\n",
    "          [\"Люди в черном\", \"Я - робот\", \"Эволюция\"]]\n",
    "\n",
    "with open(\"tablica.csv\", \"w\") as tabl:\n",
    "    \n",
    "    pishem = csv.writer(tabl, delimiter = \",\", lineterminator=\"\\n\")\n",
    "    \n",
    "    pishem.writerow(spisok[0])\n",
    "    pishem.writerow(spisok[1])\n",
    "    pishem.writerow(spisok[2])\n",
    "    \n",
    "with open(\"tablica.csv\", \"r\") as tabl:\n",
    "    \n",
    "    print(tabl.read())"
   ]
  },
  {
   "cell_type": "code",
   "execution_count": null,
   "id": "e5846844",
   "metadata": {},
   "outputs": [],
   "source": []
  }
 ],
 "metadata": {
  "kernelspec": {
   "display_name": "Python 3 (ipykernel)",
   "language": "python",
   "name": "python3"
  },
  "language_info": {
   "codemirror_mode": {
    "name": "ipython",
    "version": 3
   },
   "file_extension": ".py",
   "mimetype": "text/x-python",
   "name": "python",
   "nbconvert_exporter": "python",
   "pygments_lexer": "ipython3",
   "version": "3.11.5"
  }
 },
 "nbformat": 4,
 "nbformat_minor": 5
}
