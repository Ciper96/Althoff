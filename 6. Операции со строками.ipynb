{
 "cells": [
  {
   "cell_type": "markdown",
   "id": "1f48212b",
   "metadata": {},
   "source": [
    "# №1. Вывод символов строки"
   ]
  },
  {
   "cell_type": "code",
   "execution_count": 1,
   "id": "dde7d1db-7636-44fc-a895-46630566832c",
   "metadata": {
    "scrolled": true
   },
   "outputs": [
    {
     "name": "stdout",
     "output_type": "stream",
     "text": [
      "f\n",
      "a\n",
      "i\n",
      "l\n",
      "u\n",
      "r\n",
      "e\n"
     ]
    }
   ],
   "source": [
    "text = \"failure\"\n",
    "for i in text:\n",
    "    print(i)"
   ]
  },
  {
   "cell_type": "markdown",
   "id": "151d2884",
   "metadata": {},
   "source": [
    "# №2. Вывод строки с пользовательскими вставками"
   ]
  },
  {
   "cell_type": "code",
   "execution_count": 3,
   "id": "08d00377-1fad-4411-9564-fdfb785b7050",
   "metadata": {
    "scrolled": true
   },
   "outputs": [
    {
     "name": "stdout",
     "output_type": "stream",
     "text": [
      "Text from any_username containing some any_content\n"
     ]
    }
   ],
   "source": [
    "message = \"Text from {} containing some {}\"\n",
    "print(message.format(\"any_username\", \"any_content\"))"
   ]
  },
  {
   "cell_type": "markdown",
   "id": "51d80f6c",
   "metadata": {},
   "source": [
    "# №3. Исправление регистра"
   ]
  },
  {
   "cell_type": "code",
   "execution_count": 4,
   "id": "d73b3b4a-a0e0-4fd4-a88b-4f9d1507490b",
   "metadata": {},
   "outputs": [
    {
     "name": "stdout",
     "output_type": "stream",
     "text": [
      "Simple reason\n"
     ]
    }
   ],
   "source": [
    "Error = \"simple reason\"\n",
    "Error = Error.capitalize()\n",
    "print(Error)"
   ]
  },
  {
   "cell_type": "markdown",
   "id": "07bb4c7c",
   "metadata": {},
   "source": [
    "# №4. Деление строки на список строк"
   ]
  },
  {
   "cell_type": "code",
   "execution_count": 6,
   "id": "59c6bda0-8e4a-4a1b-bc1b-e54ddf6867e0",
   "metadata": {},
   "outputs": [
    {
     "name": "stdout",
     "output_type": "stream",
     "text": [
      "['What?', 'Where?', 'When?']\n"
     ]
    }
   ],
   "source": [
    "Element = \"What? Where? When?\"\n",
    "List = Element.split( )\n",
    "print(List)"
   ]
  },
  {
   "cell_type": "markdown",
   "id": "8b91e018",
   "metadata": {},
   "source": [
    "# №5. Сложение списка строк в единую строку"
   ]
  },
  {
   "cell_type": "code",
   "execution_count": 15,
   "id": "7c1315d2-e380-4016-8dbb-c65f8dd04481",
   "metadata": {
    "scrolled": true
   },
   "outputs": [
    {
     "name": "stdout",
     "output_type": "stream",
     "text": [
      "The secret is to not let your imagination get carried away\n",
      "The secret is to not let your imagination get carried away.\n"
     ]
    }
   ],
   "source": [
    "Collect = [\"The\", \"secret\", \"is\", \"to\", \"not\", \"let\", \"your\", \"imagination\", \"get\", \"carried\", \"away\", \".\"]\n",
    "Formation = \" \".join(Collect[0:11])\n",
    "print(Formation)\n",
    "Final = Formation + Collect[11]\n",
    "print(Final)"
   ]
  },
  {
   "cell_type": "markdown",
   "id": "b106f673",
   "metadata": {},
   "source": [
    "# №6. Замена символов в строке"
   ]
  },
  {
   "cell_type": "code",
   "execution_count": 17,
   "id": "4dfeb0de-78a2-441a-9d21-52fa9cf1f7c4",
   "metadata": {},
   "outputs": [
    {
     "name": "stdout",
     "output_type": "stream",
     "text": [
      "An illusion shared by everyone becomes a reality.\n"
     ]
    }
   ],
   "source": [
    "First = \"An illusi0n shared by every0ne bec0mes a reality.\"\n",
    "print(First.replace(\"0\", \"o\"))"
   ]
  },
  {
   "cell_type": "markdown",
   "id": "e076be91",
   "metadata": {},
   "source": [
    "# №7. Вывод индекса символа в строке"
   ]
  },
  {
   "cell_type": "code",
   "execution_count": 25,
   "id": "df7cc2db-862f-4b81-a36b-f2670b422348",
   "metadata": {},
   "outputs": [
    {
     "name": "stdout",
     "output_type": "stream",
     "text": [
      "4\n",
      "1\n"
     ]
    }
   ],
   "source": [
    "road = \"unadjustment\"\n",
    "print(road.index(\"j\"))\n",
    "\n",
    "print(\"remebering\".index(\"e\"))"
   ]
  },
  {
   "cell_type": "markdown",
   "id": "c7eb39ca",
   "metadata": {},
   "source": [
    "# №8. Удаление дефисов, решение проблемы с кавычками"
   ]
  },
  {
   "cell_type": "code",
   "execution_count": 31,
   "id": "fd98e3cc-3a32-4195-987d-7906ab361f88",
   "metadata": {},
   "outputs": [
    {
     "name": "stdout",
     "output_type": "stream",
     "text": [
      "In light this bright, after so long in the dark, everything we can see is only \"black and white\".\n",
      "Only glaring shape-outlines we have to blink against.\n",
      "\n",
      "In light this bright, after so long in the dark, everything we can see is only \"black and white\". \n",
      "Only glaring shape-outlines we have to blink against.\n"
     ]
    }
   ],
   "source": [
    "text = \"\"\"- In light this bright, after so long in the dark, everything we can see is only \"black and white\".\n",
    "- Only glaring shape-outlines we have to blink against.\"\"\"\n",
    "\n",
    "first = text.replace(\"- \", \"\")\n",
    "print(first)\n",
    "\n",
    "print(\"\")\n",
    "\n",
    "second = first.replace('\".', '\". ')\n",
    "print(second)"
   ]
  },
  {
   "cell_type": "markdown",
   "id": "a9759ad7",
   "metadata": {},
   "source": [
    "# №9. Конкатенация (сложение строк)"
   ]
  },
  {
   "cell_type": "code",
   "execution_count": 34,
   "id": "5ad5aba4-037c-40df-bec2-7b4b79e9ee79",
   "metadata": {},
   "outputs": [
    {
     "name": "stdout",
     "output_type": "stream",
     "text": [
      "brand new day\n",
      "\n",
      "brand new day, brand new day, brand new day\n"
     ]
    }
   ],
   "source": [
    "first = \"brand\"\n",
    "second = \"new\"\n",
    "third = \"day\"\n",
    "\n",
    "quote = first + \" \" + second + \" \" + third\n",
    "\n",
    "print(quote)\n",
    "\n",
    "print(\"\")\n",
    "\n",
    "print((quote + \", \") * 2 + quote)"
   ]
  },
  {
   "cell_type": "markdown",
   "id": "f45893ea",
   "metadata": {},
   "source": [
    "# №10. Извлечение среза строки"
   ]
  },
  {
   "cell_type": "code",
   "execution_count": 35,
   "id": "f9be81dc-63cb-4bec-8882-86c92e896ce6",
   "metadata": {},
   "outputs": [
    {
     "name": "stdout",
     "output_type": "stream",
     "text": [
      "Conjure with it\n"
     ]
    }
   ],
   "source": [
    "primary = \"Conjure with it? I can't even pronounce it, and my cirrhosis would give you indigestion\"\n",
    "print(primary[:15])"
   ]
  },
  {
   "cell_type": "code",
   "execution_count": null,
   "id": "6ad70b1c",
   "metadata": {},
   "outputs": [],
   "source": []
  }
 ],
 "metadata": {
  "kernelspec": {
   "display_name": "Python 3 (ipykernel)",
   "language": "python",
   "name": "python3"
  },
  "language_info": {
   "codemirror_mode": {
    "name": "ipython",
    "version": 3
   },
   "file_extension": ".py",
   "mimetype": "text/x-python",
   "name": "python",
   "nbconvert_exporter": "python",
   "pygments_lexer": "ipython3",
   "version": "3.11.5"
  }
 },
 "nbformat": 4,
 "nbformat_minor": 5
}
