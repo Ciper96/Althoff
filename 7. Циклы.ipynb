{
 "cells": [
  {
   "cell_type": "markdown",
   "id": "c829712d",
   "metadata": {},
   "source": [
    "# №1. Вывод каждого элемента списка"
   ]
  },
  {
   "cell_type": "code",
   "execution_count": 1,
   "id": "ac2c65f6",
   "metadata": {},
   "outputs": [
    {
     "name": "stdout",
     "output_type": "stream",
     "text": [
      "Cramps\n",
      "Palina\n",
      "Halsey\n",
      "Eilish\n"
     ]
    }
   ],
   "source": [
    "spisok = [\"Cramps\", \"Palina\", \"Halsey\", \"Eilish\"]\n",
    "\n",
    "for item in spisok:\n",
    "    print(item)"
   ]
  },
  {
   "cell_type": "markdown",
   "id": "b76f6068",
   "metadata": {},
   "source": [
    "# №2. Вывод чисел диапазона 25-50 (с замещением 30-44 на \"...\")"
   ]
  },
  {
   "cell_type": "code",
   "execution_count": 32,
   "id": "45d42565",
   "metadata": {},
   "outputs": [
    {
     "name": "stdout",
     "output_type": "stream",
     "text": [
      "25\n",
      "26\n",
      "27\n",
      "28\n",
      "29\n",
      "...\n",
      "...\n",
      "...\n",
      "...\n",
      "...\n",
      "...\n",
      "...\n",
      "...\n",
      "...\n",
      "...\n",
      "...\n",
      "...\n",
      "...\n",
      "...\n",
      "...\n",
      "45\n",
      "46\n",
      "47\n",
      "48\n",
      "49\n",
      "50\n"
     ]
    }
   ],
   "source": [
    "exception = [30, 31, 32, 33, 34, 35, 36, 37, 38, 39, 40, 41, 42, 43, 44]\n",
    "\n",
    "for i in range (25, 51):\n",
    "    if i in exception:\n",
    "        print(\"...\")\n",
    "        continue\n",
    "    print(i)"
   ]
  },
  {
   "cell_type": "markdown",
   "id": "3d031608",
   "metadata": {},
   "source": [
    "# №3. Вывод элементов списка первого задания с индексами"
   ]
  },
  {
   "cell_type": "code",
   "execution_count": 10,
   "id": "db9c0096",
   "metadata": {},
   "outputs": [
    {
     "name": "stdout",
     "output_type": "stream",
     "text": [
      "[(0, 'Cramps'), (1, 'Palina'), (2, 'Halsey'), (3, 'Eilish')]\n"
     ]
    }
   ],
   "source": [
    "print(list(enumerate(spisok)))"
   ]
  },
  {
   "cell_type": "markdown",
   "id": "57f24b9e",
   "metadata": {},
   "source": [
    "# ИЛИ"
   ]
  },
  {
   "cell_type": "code",
   "execution_count": 15,
   "id": "5b75e8f8",
   "metadata": {},
   "outputs": [
    {
     "name": "stdout",
     "output_type": "stream",
     "text": [
      "0, Cramps\n",
      "1, Palina\n",
      "2, Halsey\n",
      "3, Eilish\n"
     ]
    }
   ],
   "source": [
    "for index, name in enumerate (spisok):\n",
    "    print(str(index) + \", \" + name)"
   ]
  },
  {
   "cell_type": "markdown",
   "id": "db795964",
   "metadata": {},
   "source": [
    "# №4. Бесконечный цикл (с возможностью закрытия): перебор списка чисел с возможностью отгадать число"
   ]
  },
  {
   "cell_type": "code",
   "execution_count": 24,
   "id": "a5e27177",
   "metadata": {},
   "outputs": [
    {
     "name": "stdout",
     "output_type": "stream",
     "text": [
      "Для завершения программы наберите '777'\n",
      "\n",
      "Угадайте число: 4\n",
      "Вы угадали!\n",
      "\n",
      "Угадайте число: 24\n",
      "Не угадали, попробуйте ещё раз!\n",
      "\n",
      "Угадайте число: 777\n",
      "Программа завершена\n"
     ]
    }
   ],
   "source": [
    "numbers = [4, 8, 15, 16, 23, 42]\n",
    "\n",
    "print(\"Для завершения программы наберите '777'\\n\")\n",
    "\n",
    "while True:\n",
    "    answer = int(input(\"Угадайте число: \"))\n",
    "\n",
    "    if answer in numbers:\n",
    "        print(\"Вы угадали!\\n\")\n",
    "    \n",
    "    elif answer not in numbers:\n",
    "        \n",
    "        if answer != 777:\n",
    "            print(\"Не угадали, попробуйте ещё раз!\\n\")\n",
    "        \n",
    "        else:\n",
    "            print(\"Программа завершена\")\n",
    "            break"
   ]
  },
  {
   "cell_type": "markdown",
   "id": "f576c822",
   "metadata": {},
   "source": [
    "# №5. Перемножение чисел двух списков с размещением результатов в новой переменной"
   ]
  },
  {
   "cell_type": "code",
   "execution_count": 27,
   "id": "32fa6672",
   "metadata": {},
   "outputs": [
    {
     "name": "stdout",
     "output_type": "stream",
     "text": [
      "[72, 8, 264, 664, 171, 19, 627, 1577, 1332, 148, 4884, 12284, 36, 4, 132, 332]\n"
     ]
    }
   ],
   "source": [
    "spisok1 = [8, 19, 148, 4]\n",
    "spisok2 = [9, 1, 33, 83]\n",
    "\n",
    "result = []\n",
    "\n",
    "for i in spisok1:\n",
    "    for u in spisok2:\n",
    "        \n",
    "        result.append(i * u)\n",
    "        \n",
    "print(result)"
   ]
  },
  {
   "cell_type": "code",
   "execution_count": null,
   "id": "57ca0ec8",
   "metadata": {},
   "outputs": [],
   "source": []
  }
 ],
 "metadata": {
  "kernelspec": {
   "display_name": "Python 3 (ipykernel)",
   "language": "python",
   "name": "python3"
  },
  "language_info": {
   "codemirror_mode": {
    "name": "ipython",
    "version": 3
   },
   "file_extension": ".py",
   "mimetype": "text/x-python",
   "name": "python",
   "nbconvert_exporter": "python",
   "pygments_lexer": "ipython3",
   "version": "3.11.5"
  }
 },
 "nbformat": 4,
 "nbformat_minor": 5
}
