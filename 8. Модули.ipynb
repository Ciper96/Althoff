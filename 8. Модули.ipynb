{
 "cells": [
  {
   "cell_type": "markdown",
   "id": "43403392",
   "metadata": {},
   "source": [
    "# №1. Функция из модуля statistics"
   ]
  },
  {
   "cell_type": "code",
   "execution_count": 7,
   "id": "29965b36",
   "metadata": {},
   "outputs": [
    {
     "name": "stdout",
     "output_type": "stream",
     "text": [
      "[7.0, 15.5, 27.75]\n"
     ]
    }
   ],
   "source": [
    "import statistics\n",
    "\n",
    "numbers = [4, 8, 15, 16, 23, 42]\n",
    "\n",
    "print(statistics.quantiles(numbers))"
   ]
  },
  {
   "cell_type": "markdown",
   "id": "40358597",
   "metadata": {},
   "source": [
    "# №2. Кустарный модуль (библиотека)"
   ]
  },
  {
   "cell_type": "code",
   "execution_count": 17,
   "id": "55959517",
   "metadata": {},
   "outputs": [
    {
     "ename": "ModuleNotFoundError",
     "evalue": "No module named 'Cubed'",
     "output_type": "error",
     "traceback": [
      "\u001b[1;31m---------------------------------------------------------------------------\u001b[0m",
      "\u001b[1;31mModuleNotFoundError\u001b[0m                       Traceback (most recent call last)",
      "Cell \u001b[1;32mIn[17], line 9\u001b[0m\n\u001b[0;32m      5\u001b[0m     \u001b[38;5;28;01mreturn\u001b[39;00m (x \u001b[38;5;241m*\u001b[39m\u001b[38;5;241m*\u001b[39m \u001b[38;5;241m3\u001b[39m)\n\u001b[0;32m      7\u001b[0m \u001b[38;5;66;03m# Aga.py\u001b[39;00m\n\u001b[1;32m----> 9\u001b[0m \u001b[38;5;28;01mimport\u001b[39;00m \u001b[38;5;21;01mCubed\u001b[39;00m\n\u001b[0;32m     11\u001b[0m \u001b[38;5;28mprint\u001b[39m(Cubed\u001b[38;5;241m.\u001b[39mburo(\u001b[38;5;241m3\u001b[39m))\n",
      "\u001b[1;31mModuleNotFoundError\u001b[0m: No module named 'Cubed'"
     ]
    }
   ],
   "source": [
    "#Cubed.py\n",
    "\n",
    "def buro (x):\n",
    "    \n",
    "    return (x ** 3)\n",
    "\n",
    "# Aga.py\n",
    "\n",
    "import Cubed\n",
    "\n",
    "print(Cubed.buro(3))"
   ]
  },
  {
   "cell_type": "code",
   "execution_count": null,
   "id": "a8c8ab9d",
   "metadata": {},
   "outputs": [],
   "source": []
  }
 ],
 "metadata": {
  "kernelspec": {
   "display_name": "Python 3 (ipykernel)",
   "language": "python",
   "name": "python3"
  },
  "language_info": {
   "codemirror_mode": {
    "name": "ipython",
    "version": 3
   },
   "file_extension": ".py",
   "mimetype": "text/x-python",
   "name": "python",
   "nbconvert_exporter": "python",
   "pygments_lexer": "ipython3",
   "version": "3.11.5"
  }
 },
 "nbformat": 4,
 "nbformat_minor": 5
}
