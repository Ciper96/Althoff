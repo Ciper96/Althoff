{
 "cells": [
  {
   "cell_type": "code",
   "execution_count": 6,
   "id": "95667d08-9522-453b-9e6d-9dc76208890a",
   "metadata": {},
   "outputs": [
    {
     "name": "stdout",
     "output_type": "stream",
     "text": [
      "4\n",
      "8\n",
      "15\n",
      "16\n",
      "23\n",
      "42\n",
      "\n",
      "42\n"
     ]
    }
   ],
   "source": [
    "numbers = [4, 8, 15, 16, 23, 42]\n",
    "\n",
    "for number in numbers:\n",
    "    print(number)\n",
    "\n",
    "print(\"\")\n",
    "\n",
    "print(number)"
   ]
  },
  {
   "cell_type": "code",
   "execution_count": 2,
   "id": "7948ffe0-ad11-420a-84bf-30f3520d5d0d",
   "metadata": {},
   "outputs": [
    {
     "name": "stdout",
     "output_type": "stream",
     "text": [
      "Изначальный список: [4, 8, 15, 16, 23, 42]\n",
      "\n",
      "Элемент списка с индексом '0': 4\n",
      "\n",
      "Итог преобразований: [40, 80, 150, 160, 230, 420]\n"
     ]
    }
   ],
   "source": [
    "numbers = [4, 8, 15, 16, 23, 42]\n",
    "\n",
    "print(\"Изначальный список: \" + str(numbers))\n",
    "print(\"\")\n",
    "\n",
    "print(\"Элемент списка с индексом '0': \" + str(numbers[0]))\n",
    "\n",
    "print(\"\")\n",
    "\n",
    "i = 0                     #Стартовый индекс - 0\n",
    "for number in numbers:    #Повторять за каждый элемент списка:\n",
    "    next = numbers[i]        #Объявить элемент со стартовым индексом переменной \"next\"\n",
    "    next = next * 10         #Увеличить переменную \"next\" в 10 раз\n",
    "    numbers[i] = next        #Заменяем элемент со стартовым индексом на полученную переменную \"next\"\n",
    "    i += 1                   #Теперь стартовый индекс на единицу больше\n",
    "\n",
    "print(\"Итог преобразований: \" + str(numbers))           #Вывести список, где каждый элемент прошёл те же процедуры, что и переменная \"next\""
   ]
  },
  {
   "cell_type": "code",
   "execution_count": 3,
   "id": "a7c48ff1-375a-41d1-9970-28d8b70a842d",
   "metadata": {},
   "outputs": [
    {
     "name": "stdout",
     "output_type": "stream",
     "text": [
      "[40, 80, 150, 160, 230, 420]\n"
     ]
    }
   ],
   "source": [
    "numbers = [4, 8, 15, 16, 23, 42]\n",
    "\n",
    "for i, number in enumerate(numbers):\n",
    "    next = numbers[i]\n",
    "    next = next * 10\n",
    "    numbers[i] = next\n",
    "    \n",
    "print(numbers)"
   ]
  },
  {
   "cell_type": "code",
   "execution_count": 5,
   "id": "edce4d05-25d2-4159-901f-c1dda8ef15f5",
   "metadata": {},
   "outputs": [
    {
     "name": "stdout",
     "output_type": "stream",
     "text": [
      "[(0, \"Bristol'\"), (1, 'Sheffield'), (2, 'Bradford')]\n"
     ]
    }
   ],
   "source": [
    "names = [\"Bristol'\", \"Sheffield\", \"Bradford\"]\n",
    "enumnames = enumerate(names)\n",
    "print(list(enumnames))"
   ]
  },
  {
   "cell_type": "code",
   "execution_count": 7,
   "id": "9af8f0ab-988c-40b2-80c4-1eccc7a5281e",
   "metadata": {},
   "outputs": [
    {
     "name": "stdout",
     "output_type": "stream",
     "text": [
      "['entuziastov', 'vorovskogo', 'lesoparkovaya']\n"
     ]
    }
   ],
   "source": [
    "streets = [\"Entuziastov\", \"Vorovskogo\", \"Lesoparkovaya\"] #изначальный список\n",
    "\n",
    "for i, street in enumerate(streets):              #за каждую пару индекс (i) и значение (street) в \"пронумерованном\" ряде изначального списка:\n",
    "    neo = streets[i]                                     #элемент со стартовым индексом - это переменная \"neo\"\n",
    "    neo = neo.lower()                                    #перемнная \"neo\" переведена к нижнему регистру\n",
    "    streets[i] = neo                                     #элемент со стартовым индексом приравнивается к переменной \"neo\"\n",
    "\n",
    "print(streets)                                    #вывод итога повторения процедуры за каждую пару пронумерованного ряда"
   ]
  },
  {
   "cell_type": "code",
   "execution_count": 14,
   "id": "b4fdc15b-d9e1-4d0a-933f-d5079dce34d4",
   "metadata": {},
   "outputs": [
    {
     "name": "stdout",
     "output_type": "stream",
     "text": [
      "['f8rst', 'second', 'th8rd', 'Fourth', 'Fifth', 'Sixth']\n"
     ]
    }
   ],
   "source": [
    "files = [\"first\", \"second\", \"third\"]  #список №1\n",
    "sets = [\"fourth\", \"fifth\", \"sixth\"]   #список №2\n",
    "\n",
    "combine = []                          #список №3 (пустой)\n",
    "\n",
    "for every in files:                   #за каждый элемент в списке №1:\n",
    "    every = every.replace(\"i\", \"8\")         #элементу присвоить его значение с заменёнными символами\n",
    "    combine.append(every)                   #внести элемент с присвоенным значением в конец списка №3\n",
    "\n",
    "for each in sets:                     #за каждый элемент в списке №2:\n",
    "    each = each.capitalize()                #элементу присвоить его значение с заглавной первой буквой\n",
    "    combine.append(each)                    #внести элемент с заглавной буквой в конец списка №3\n",
    "\n",
    "print(combine)                        #вывод итогового списка №3"
   ]
  },
  {
   "cell_type": "code",
   "execution_count": 1,
   "id": "de543783-838e-4fff-a238-9c92818c033a",
   "metadata": {},
   "outputs": [
    {
     "name": "stdout",
     "output_type": "stream",
     "text": [
      "10\n",
      "9\n",
      "8\n",
      "7\n",
      "6\n",
      "5\n",
      "4\n",
      "3\n",
      "2\n",
      "1\n",
      "С Новым годом!\n"
     ]
    }
   ],
   "source": [
    "x = 10\n",
    "while x>0:\n",
    "    print(\"{}\".format(x))\n",
    "    x-=1\n",
    "print(\"С Новым годом!\")"
   ]
  },
  {
   "cell_type": "code",
   "execution_count": 2,
   "id": "38b95178",
   "metadata": {},
   "outputs": [
    {
     "name": "stdout",
     "output_type": "stream",
     "text": [
      "0\n"
     ]
    }
   ],
   "source": [
    "for i in range(100):\n",
    "    print(i)\n",
    "    break"
   ]
  },
  {
   "cell_type": "code",
   "execution_count": null,
   "id": "65558f43",
   "metadata": {},
   "outputs": [
    {
     "name": "stdout",
     "output_type": "stream",
     "text": [
      "Введи Х для выхода\n"
     ]
    }
   ],
   "source": [
    "qs = [\"Как тебя зовут?\", \"Твой любимый цвет?\", \"Что ты делаешь?\"]\n",
    "n=0\n",
    "while True:\n",
    "    print(\"Введи Х для выхода\")\n",
    "    a = input(qs[0])\n",
    "    if a == \"Х\":\n",
    "        break\n",
    "    n = (n+1)%3"
   ]
  },
  {
   "cell_type": "code",
   "execution_count": 1,
   "id": "fc4f1181",
   "metadata": {},
   "outputs": [
    {
     "name": "stdout",
     "output_type": "stream",
     "text": [
      "18\n",
      "15.5\n",
      "4\n"
     ]
    }
   ],
   "source": [
    "import statistics as st\n",
    "\n",
    "nums = [4, 8, 15, 16, 23, 42]\n",
    "\n",
    "print(st.mean(nums))\n",
    "\n",
    "print(st.median(nums))\n",
    "\n",
    "print(st.mode(nums))"
   ]
  },
  {
   "cell_type": "code",
   "execution_count": null,
   "id": "a6ba436d",
   "metadata": {},
   "outputs": [],
   "source": []
  }
 ],
 "metadata": {
  "kernelspec": {
   "display_name": "Python 3 (ipykernel)",
   "language": "python",
   "name": "python3"
  },
  "language_info": {
   "codemirror_mode": {
    "name": "ipython",
    "version": 3
   },
   "file_extension": ".py",
   "mimetype": "text/x-python",
   "name": "python",
   "nbconvert_exporter": "python",
   "pygments_lexer": "ipython3",
   "version": "3.11.5"
  }
 },
 "nbformat": 4,
 "nbformat_minor": 5
}
